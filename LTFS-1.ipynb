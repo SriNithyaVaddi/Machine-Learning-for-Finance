{
 "cells": [
  {
   "cell_type": "code",
   "execution_count": 1,
   "id": "9a224f50",
   "metadata": {},
   "outputs": [],
   "source": [
    "import numpy as np\n",
    "import pandas as pd\n",
    "import matplotlib.pyplot as plt \n",
    "pd.set_option('display.max_columns', None)\n",
    "import seaborn as sns"
   ]
  },
  {
   "cell_type": "code",
   "execution_count": 2,
   "id": "abae585e",
   "metadata": {},
   "outputs": [],
   "source": [
    "train_data = pd.read_excel(\"train_Data.xlsx\")"
   ]
  },
  {
   "cell_type": "code",
   "execution_count": 3,
   "id": "1f61fb54",
   "metadata": {},
   "outputs": [],
   "source": [
    "train_data.to_csv(\"train_data.csv\", index=False)"
   ]
  },
  {
   "cell_type": "code",
   "execution_count": 5,
   "id": "cc5b4b1d",
   "metadata": {},
   "outputs": [],
   "source": [
    "train_bureau = pd.read_excel('train_bureau.xlsx')"
   ]
  },
  {
   "cell_type": "code",
   "execution_count": 6,
   "id": "19e2b05f",
   "metadata": {},
   "outputs": [],
   "source": [
    "train_bureau.to_csv(\"train_bureau.csv\", index=False)"
   ]
  },
  {
   "cell_type": "code",
   "execution_count": 7,
   "id": "db316def",
   "metadata": {},
   "outputs": [],
   "source": [
    "test_data = pd.read_excel(\"test_Data.xlsx\")\n",
    "\n",
    "test_bureau = pd.read_excel('test_bureau.xlsx')"
   ]
  },
  {
   "cell_type": "code",
   "execution_count": 28,
   "id": "d3d47924",
   "metadata": {},
   "outputs": [],
   "source": [
    "test_data.to_csv(\"test_data.csv\", index=False)\n",
    "test_bureau.to_csv(\"test_bureau\", index=False)"
   ]
  }
 ],
 "metadata": {
  "kernelspec": {
   "display_name": "ml",
   "language": "python",
   "name": "myenv"
  },
  "language_info": {
   "codemirror_mode": {
    "name": "ipython",
    "version": 3
   },
   "file_extension": ".py",
   "mimetype": "text/x-python",
   "name": "python",
   "nbconvert_exporter": "python",
   "pygments_lexer": "ipython3",
   "version": "3.8.5"
  }
 },
 "nbformat": 4,
 "nbformat_minor": 5
}
